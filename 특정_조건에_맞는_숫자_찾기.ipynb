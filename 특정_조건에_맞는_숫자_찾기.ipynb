{
  "nbformat": 4,
  "nbformat_minor": 0,
  "metadata": {
    "colab": {
      "provenance": [],
      "authorship_tag": "ABX9TyOMWRScdrCvYJ0S+PgKpuUM",
      "include_colab_link": true
    },
    "kernelspec": {
      "name": "python3",
      "display_name": "Python 3"
    },
    "language_info": {
      "name": "python"
    }
  },
  "cells": [
    {
      "cell_type": "markdown",
      "metadata": {
        "id": "view-in-github",
        "colab_type": "text"
      },
      "source": [
        "<a href=\"https://colab.research.google.com/github/apprenticeofgpt/pythonstudy/blob/main/%ED%8A%B9%EC%A0%95_%EC%A1%B0%EA%B1%B4%EC%97%90_%EB%A7%9E%EB%8A%94_%EC%88%AB%EC%9E%90_%EC%B0%BE%EA%B8%B0.ipynb\" target=\"_parent\"><img src=\"https://colab.research.google.com/assets/colab-badge.svg\" alt=\"Open In Colab\"/></a>"
      ]
    },
    {
      "cell_type": "code",
      "execution_count": null,
      "metadata": {
        "colab": {
          "base_uri": "https://localhost:8080/"
        },
        "id": "UGODPcQjzwP2",
        "outputId": "b7c39442-d13a-4f0e-8737-fcd1c4ab4554"
      },
      "outputs": [
        {
          "output_type": "stream",
          "name": "stdout",
          "text": [
            "input n: 20\n",
            "[3, 9, 15]\n"
          ]
        }
      ],
      "source": [
        "lst=[]\n",
        "n=int(input('input n: '))\n",
        "for i in range(n):\n",
        "  if i%3==0 and i%2!=0:\n",
        "    lst.append(i)\n",
        "print(lst)"
      ]
    }
  ]
}