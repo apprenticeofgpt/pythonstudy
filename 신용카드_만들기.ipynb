{
  "nbformat": 4,
  "nbformat_minor": 0,
  "metadata": {
    "colab": {
      "provenance": [],
      "authorship_tag": "ABX9TyM3gLR42o1qvzFREdDO1X0a",
      "include_colab_link": true
    },
    "kernelspec": {
      "name": "python3",
      "display_name": "Python 3"
    },
    "language_info": {
      "name": "python"
    }
  },
  "cells": [
    {
      "cell_type": "markdown",
      "metadata": {
        "id": "view-in-github",
        "colab_type": "text"
      },
      "source": [
        "<a href=\"https://colab.research.google.com/github/apprenticeofgpt/pythonstudy/blob/main/%EC%8B%A0%EC%9A%A9%EC%B9%B4%EB%93%9C_%EB%A7%8C%EB%93%A4%EA%B8%B0.ipynb\" target=\"_parent\"><img src=\"https://colab.research.google.com/assets/colab-badge.svg\" alt=\"Open In Colab\"/></a>"
      ]
    },
    {
      "cell_type": "code",
      "execution_count": null,
      "metadata": {
        "colab": {
          "base_uri": "https://localhost:8080/"
        },
        "id": "WNHjJmQltuNc",
        "outputId": "46a415fa-aefc-4dc4-8d63-ab9ab17e6f46"
      },
      "outputs": [
        {
          "output_type": "stream",
          "name": "stdout",
          "text": [
            "4444-3333-2222-1111\n",
            "Valid\n"
          ]
        }
      ],
      "source": [
        "import re\n",
        "card = input()\n",
        "try:\n",
        "    if card[0] not in ['4','5','6']:\n",
        "        print(\"Invalid\")\n",
        "    elif re.fullmatch(r'\\d{4}-\\d{4}-\\d{4}-\\d{4}', card):\n",
        "        print(\"Valid\")\n",
        "except IndexError:\n",
        "    print(\"Invalid\")"
      ]
    }
  ]
}