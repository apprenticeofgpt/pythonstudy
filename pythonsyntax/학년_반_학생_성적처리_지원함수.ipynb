{
  "cells": [
    {
      "cell_type": "code",
      "execution_count": 2,
      "metadata": {
        "id": "pg3od0O8lU7p"
      },
      "outputs": [],
      "source": [
        "import random"
      ]
    },
    {
      "cell_type": "code",
      "execution_count": 3,
      "metadata": {
        "id": "Vee8KCaqj4QB"
      },
      "outputs": [],
      "source": [
        "#점수 = {\"국어\":[0] * 10}\n",
        "#점수 = {\"국어\":list(map(lambda x: random.randint(0,100), range(10)))}\n",
        "점수 = {\"국어\":[random.randint(0,100) for i in range(10)]}"
      ]
    },
    {
      "cell_type": "code",
      "execution_count": 4,
      "metadata": {
        "id": "U034HX5WkJwA"
      },
      "outputs": [],
      "source": [
        "반_점수 = {\"1반\":점수, \"2반\":점수, \"3반\":점수, \"4반\":점수, \"5반\":점수}"
      ]
    },
    {
      "cell_type": "code",
      "execution_count": 5,
      "metadata": {
        "id": "sPqzgQE4kN1L"
      },
      "outputs": [
        {
          "name": "stdout",
          "output_type": "stream",
          "text": [
            "{'1반': {'국어': [38, 18, 29, 6, 61, 31, 11, 22, 98, 93]}, '2반': {'국어': [38, 18, 29, 6, 61, 31, 11, 22, 98, 93]}, '3반': {'국어': [38, 18, 29, 6, 61, 31, 11, 22, 98, 93]}, '4반': {'국어': [38, 18, 29, 6, 61, 31, 11, 22, 98, 93]}, '5반': {'국어': [38, 18, 29, 6, 61, 31, 11, 22, 98, 93]}}\n",
            "1반\n",
            "2반\n",
            "3반\n",
            "4반\n",
            "5반\n"
          ]
        }
      ],
      "source": [
        "print(반_점수)\n",
        "for 반 in 반_점수:\n",
        "    print(반)\n",
        "    반_점수[반]"
      ]
    },
    {
      "cell_type": "code",
      "execution_count": 6,
      "metadata": {
        "id": "LRDrkkXkkQpF"
      },
      "outputs": [
        {
          "name": "stdout",
          "output_type": "stream",
          "text": [
            "[38, 18, 29, 6, 61, 31, 11, 22, 98, 93]\n",
            "[38, 18, 29, 6, 61, 31, 11, 22, 98, 93]\n"
          ]
        }
      ],
      "source": [
        "print(반_점수[\"1반\"][\"국어\"])\n",
        "print(반_점수[\"2반\"][\"국어\"])"
      ]
    },
    {
      "cell_type": "code",
      "execution_count": null,
      "metadata": {
        "id": "UxPU6UE1kUkj"
      },
      "outputs": [],
      "source": []
    },
    {
      "cell_type": "code",
      "execution_count": 7,
      "metadata": {
        "id": "PxtejJ3XcgyT"
      },
      "outputs": [],
      "source": [
        "학년_수 = 6\n",
        "학년_목록 = [str(i+1)+\"학년\" for i in range(학년_수)]\n",
        "학년별_반_수 = [random.randint(3, 10) for i in range(학년_수)]\n",
        "학년별_반_학생수 =[[random.randint(10, 50) for j in range(학년별_반_수[i])] for i in range(학년_수)]\n",
        "과목명 = [\"국어\", \"수학\", \"영어\"]"
      ]
    },
    {
      "cell_type": "code",
      "execution_count": 8,
      "metadata": {
        "colab": {
          "base_uri": "https://localhost:8080/"
        },
        "id": "VEtoMJ8tc0n_",
        "outputId": "81a2822f-624d-427c-8222-22e07f862780"
      },
      "outputs": [
        {
          "data": {
            "text/plain": [
              "['1학년', '2학년', '3학년', '4학년', '5학년', '6학년']"
            ]
          },
          "execution_count": 8,
          "metadata": {},
          "output_type": "execute_result"
        }
      ],
      "source": [
        "학년_목록"
      ]
    },
    {
      "cell_type": "code",
      "execution_count": null,
      "metadata": {
        "colab": {
          "base_uri": "https://localhost:8080/"
        },
        "id": "Nw7_4KcGc3BJ",
        "outputId": "10251274-1229-485a-e440-edb3f8533a68"
      },
      "outputs": [
        {
          "data": {
            "text/plain": [
              "[4, 5, 9, 4, 6, 5]"
            ]
          },
          "execution_count": 41,
          "metadata": {},
          "output_type": "execute_result"
        }
      ],
      "source": [
        "학년별_반_수"
      ]
    },
    {
      "cell_type": "code",
      "execution_count": null,
      "metadata": {
        "colab": {
          "base_uri": "https://localhost:8080/"
        },
        "id": "6FO9etAkdIWq",
        "outputId": "ce96473f-ac31-4805-a11c-ac21a9736213"
      },
      "outputs": [
        {
          "data": {
            "text/plain": [
              "[[45, 15, 17, 45],\n",
              " [38, 49, 10, 44, 13],\n",
              " [21, 15, 42, 26, 41, 38, 23, 36, 21],\n",
              " [20, 15, 41, 42],\n",
              " [22, 14, 18, 40, 12, 46],\n",
              " [13, 18, 25, 25, 12]]"
            ]
          },
          "execution_count": 46,
          "metadata": {},
          "output_type": "execute_result"
        }
      ],
      "source": [
        "학년별_반_학생수"
      ]
    },
    {
      "cell_type": "code",
      "execution_count": null,
      "metadata": {
        "id": "6j27YG0cimmO"
      },
      "outputs": [],
      "source": [
        "성적데이터 = {}\n",
        "for 학년_인덱스, 학년 in enumerate(학년_목록):\n",
        "    성적데이터[학년] = {}"
      ]
    },
    {
      "cell_type": "code",
      "execution_count": null,
      "metadata": {
        "colab": {
          "base_uri": "https://localhost:8080/"
        },
        "id": "5w8YXunqivfx",
        "outputId": "37634f4c-9a96-4cb4-c25b-9475d53fbec5"
      },
      "outputs": [
        {
          "data": {
            "text/plain": [
              "{'1학년': {}, '2학년': {}, '3학년': {}, '4학년': {}, '5학년': {}, '6학년': {}}"
            ]
          },
          "execution_count": 59,
          "metadata": {},
          "output_type": "execute_result"
        }
      ],
      "source": [
        "성적데이터"
      ]
    },
    {
      "cell_type": "code",
      "execution_count": null,
      "metadata": {
        "id": "YmjGa3ovjeB6"
      },
      "outputs": [],
      "source": [
        "성적데이터 = {}\n",
        "for 학년_인덱스, 학년 in enumerate(학년_목록):\n",
        "    반수 = 학년별_반_수[학년_인덱스]\n",
        "    성적데이터[학년] = {}\n",
        "    for 반 in range(반수):\n",
        "        성적데이터[학년][str(반+1)+\"반\"] = {}"
      ]
    },
    {
      "cell_type": "code",
      "execution_count": null,
      "metadata": {
        "colab": {
          "base_uri": "https://localhost:8080/"
        },
        "id": "nGvxfS4uj21x",
        "outputId": "f9390e1e-97f5-4a5e-f581-e4e93248a6e7"
      },
      "outputs": [
        {
          "data": {
            "text/plain": [
              "{'1학년': {'1반': {}, '2반': {}, '3반': {}, '4반': {}},\n",
              " '2학년': {'1반': {}, '2반': {}, '3반': {}, '4반': {}, '5반': {}},\n",
              " '3학년': {'1반': {},\n",
              "  '2반': {},\n",
              "  '3반': {},\n",
              "  '4반': {},\n",
              "  '5반': {},\n",
              "  '6반': {},\n",
              "  '7반': {},\n",
              "  '8반': {},\n",
              "  '9반': {}},\n",
              " '4학년': {'1반': {}, '2반': {}, '3반': {}, '4반': {}},\n",
              " '5학년': {'1반': {}, '2반': {}, '3반': {}, '4반': {}, '5반': {}, '6반': {}},\n",
              " '6학년': {'1반': {}, '2반': {}, '3반': {}, '4반': {}, '5반': {}}}"
            ]
          },
          "execution_count": 69,
          "metadata": {},
          "output_type": "execute_result"
        }
      ],
      "source": [
        "성적데이터"
      ]
    },
    {
      "cell_type": "code",
      "execution_count": null,
      "metadata": {
        "id": "mkDZ328Dkioy"
      },
      "outputs": [],
      "source": [
        "성적데이터 = {}\n",
        "for 학년_인덱스, 학년 in enumerate(학년_목록):\n",
        "    반수 = 학년별_반_수[학년_인덱스]\n",
        "    성적데이터[학년] = {}\n",
        "    for 반 in range(반수):\n",
        "        반명 = str(반+1)+\"반\"\n",
        "        성적데이터[학년][반명] = {}\n",
        "        #학생수 = 학년별_반_학생수[학년_인덱스][반]\n",
        "        학생수 = 3\n",
        "        for 과목 in 과목명:\n",
        "            성적데이터[학년][반명][과목] = [random.randint(0,100) for i in range(학생수)]"
      ]
    },
    {
      "cell_type": "code",
      "execution_count": null,
      "metadata": {
        "colab": {
          "base_uri": "https://localhost:8080/"
        },
        "id": "EvLTBZ6Llvpy",
        "outputId": "707ec180-cdbc-445b-faa0-a688ddd4c359"
      },
      "outputs": [
        {
          "data": {
            "text/plain": [
              "{'1학년': {'1반': {'국어': [60, 30, 22], '수학': [68, 86, 72], '영어': [88, 1, 82]},\n",
              "  '2반': {'국어': [77, 42, 75], '수학': [52, 95, 81], '영어': [54, 24, 53]},\n",
              "  '3반': {'국어': [84, 56, 85], '수학': [21, 31, 65], '영어': [88, 78, 14]},\n",
              "  '4반': {'국어': [89, 59, 8], '수학': [22, 37, 14], '영어': [11, 20, 40]}},\n",
              " '2학년': {'1반': {'국어': [22, 4, 63], '수학': [100, 40, 36], '영어': [34, 24, 68]},\n",
              "  '2반': {'국어': [70, 28, 37], '수학': [11, 62, 58], '영어': [98, 77, 44]},\n",
              "  '3반': {'국어': [1, 52, 33], '수학': [21, 94, 32], '영어': [74, 14, 19]},\n",
              "  '4반': {'국어': [59, 4, 28], '수학': [24, 49, 6], '영어': [40, 10, 94]},\n",
              "  '5반': {'국어': [96, 1, 96], '수학': [44, 23, 53], '영어': [63, 78, 58]},\n",
              "  '6반': {'국어': [33, 36, 61], '수학': [6, 63, 77], '영어': [55, 9, 76]},\n",
              "  '7반': {'국어': [13, 6, 62], '수학': [25, 33, 55], '영어': [11, 29, 5]},\n",
              "  '8반': {'국어': [51, 79, 1], '수학': [36, 95, 72], '영어': [85, 33, 17]},\n",
              "  '9반': {'국어': [24, 70, 1], '수학': [100, 13, 20], '영어': [86, 27, 80]}},\n",
              " '3학년': {'1반': {'국어': [32, 6, 0], '수학': [79, 38, 48], '영어': [76, 21, 79]},\n",
              "  '2반': {'국어': [99, 98, 4], '수학': [80, 39, 60], '영어': [56, 57, 74]},\n",
              "  '3반': {'국어': [4, 79, 31], '수학': [13, 43, 30], '영어': [63, 59, 32]},\n",
              "  '4반': {'국어': [63, 1, 8], '수학': [2, 34, 99], '영어': [58, 45, 36]},\n",
              "  '5반': {'국어': [76, 29, 13], '수학': [39, 64, 5], '영어': [13, 68, 34]}},\n",
              " '4학년': {'1반': {'국어': [18, 49, 53], '수학': [82, 18, 21], '영어': [61, 99, 26]},\n",
              "  '2반': {'국어': [47, 4, 6], '수학': [97, 62, 57], '영어': [56, 14, 88]},\n",
              "  '3반': {'국어': [51, 48, 32], '수학': [63, 29, 67], '영어': [93, 34, 95]},\n",
              "  '4반': {'국어': [13, 30, 6], '수학': [64, 100, 63], '영어': [64, 74, 67]},\n",
              "  '5반': {'국어': [11, 56, 52], '수학': [91, 4, 19], '영어': [98, 87, 69]},\n",
              "  '6반': {'국어': [36, 39, 30], '수학': [15, 36, 74], '영어': [69, 60, 91]},\n",
              "  '7반': {'국어': [60, 23, 36], '수학': [49, 37, 1], '영어': [64, 59, 70]},\n",
              "  '8반': {'국어': [55, 86, 35], '수학': [57, 69, 20], '영어': [25, 49, 59]},\n",
              "  '9반': {'국어': [63, 100, 48], '수학': [93, 32, 23], '영어': [57, 29, 12]}},\n",
              " '5학년': {'1반': {'국어': [33, 15, 90], '수학': [79, 68, 98], '영어': [46, 22, 23]},\n",
              "  '2반': {'국어': [90, 66, 15], '수학': [89, 75, 97], '영어': [76, 97, 23]},\n",
              "  '3반': {'국어': [68, 8, 67], '수학': [5, 42, 97], '영어': [64, 26, 27]},\n",
              "  '4반': {'국어': [11, 84, 49], '수학': [61, 42, 95], '영어': [35, 86, 58]},\n",
              "  '5반': {'국어': [98, 98, 64], '수학': [55, 88, 100], '영어': [61, 52, 96]},\n",
              "  '6반': {'국어': [46, 8, 94], '수학': [31, 29, 82], '영어': [48, 55, 60]}},\n",
              " '6학년': {'1반': {'국어': [6, 30, 66], '수학': [64, 100, 98], '영어': [77, 44, 14]},\n",
              "  '2반': {'국어': [95, 89, 37], '수학': [4, 3, 56], '영어': [39, 96, 63]},\n",
              "  '3반': {'국어': [77, 33, 14], '수학': [63, 84, 38], '영어': [38, 48, 78]},\n",
              "  '4반': {'국어': [90, 64, 16], '수학': [73, 75, 53], '영어': [58, 88, 89]},\n",
              "  '5반': {'국어': [35, 2, 50], '수학': [2, 10, 88], '영어': [59, 28, 45]}}}"
            ]
          },
          "execution_count": 6,
          "metadata": {},
          "output_type": "execute_result"
        }
      ],
      "source": [
        "성적데이터"
      ]
    },
    {
      "cell_type": "code",
      "execution_count": null,
      "metadata": {
        "colab": {
          "base_uri": "https://localhost:8080/"
        },
        "id": "LyhlJabNk7mV",
        "outputId": "bc5b6a73-0149-456f-aa9b-5cba9f907c70"
      },
      "outputs": [
        {
          "data": {
            "text/plain": [
              "[60, 30, 22]"
            ]
          },
          "execution_count": 7,
          "metadata": {},
          "output_type": "execute_result"
        }
      ],
      "source": [
        "성적데이터['1학년']['1반']['국어']"
      ]
    },
    {
      "cell_type": "code",
      "execution_count": null,
      "metadata": {
        "id": "FCexmc8_eAAz"
      },
      "outputs": [],
      "source": [
        "def 학년_과목_평균(성적데이터, 학년, 과목):\n",
        "    학년데이터 = 성적데이터[학년]\n",
        "    과목_누적합 = 0\n",
        "    과목_점수_개수 = 0\n",
        "    for 반 in range(len(학년데이터)):\n",
        "        반명 = str(반+1)+\"반\"\n",
        "        과목_누적합 = 과목_누적합 + sum(학년데이터[반명][과목])\n",
        "        과목_점수_개수 = 과목_점수_개수 + len(학년데이터[반명][과목])\n",
        "\n",
        "    return 과목_누적합 / 과목_점수_개수"
      ]
    },
    {
      "cell_type": "code",
      "execution_count": null,
      "metadata": {
        "colab": {
          "base_uri": "https://localhost:8080/"
        },
        "id": "LqR4jr-WfMEg",
        "outputId": "61713b01-5a64-431c-f980-07521bb0d9ae"
      },
      "outputs": [
        {
          "data": {
            "text/plain": [
              "57.25"
            ]
          },
          "execution_count": 9,
          "metadata": {},
          "output_type": "execute_result"
        }
      ],
      "source": [
        "학년_과목_평균(성적데이터, '1학년', '국어')"
      ]
    },
    {
      "cell_type": "code",
      "execution_count": null,
      "metadata": {
        "id": "bbyeZlozfNDN"
      },
      "outputs": [],
      "source": [
        "def 학년_반_과목별_평균(성적데이터, 학년, 반명):\n",
        "    과목명_모음 = 성적데이터[학년][반명].keys()\n",
        "    #print(과목명_모음)\n",
        "    과목별_평균 = {}\n",
        "    for 과목 in 과목명_모음:\n",
        "        과목별_평균[과목] = 학년_과목_평균(성적데이터, 학년, 과목)\n",
        "    return 과목별_평균"
      ]
    },
    {
      "cell_type": "code",
      "execution_count": null,
      "metadata": {
        "colab": {
          "base_uri": "https://localhost:8080/"
        },
        "id": "JvmmJRMUopR6",
        "outputId": "4f82b3ce-b784-4c75-f694-c36fc958db3f"
      },
      "outputs": [
        {
          "name": "stdout",
          "output_type": "stream",
          "text": [
            "dict_keys(['국어', '수학', '영어'])\n"
          ]
        },
        {
          "data": {
            "text/plain": [
              "{'국어': 57.25, '수학': 53.666666666666664, '영어': 46.083333333333336}"
            ]
          },
          "execution_count": 16,
          "metadata": {},
          "output_type": "execute_result"
        }
      ],
      "source": [
        "학년_반_과목별_평균(성적데이터, '1학년', '1반')"
      ]
    },
    {
      "cell_type": "code",
      "execution_count": null,
      "metadata": {
        "id": "1pdhaK3ikQ1h"
      },
      "outputs": [],
      "source": [
        "def 학년_과목별_최고점수(성적데이터, 학년):\n",
        "    반명_모음 = 성적데이터[학년].keys()\n",
        "    과목명_모음 = 성적데이터[학년][list(반명_모음)[0]].keys()\n",
        "    과목별_최고점수 = {과목:0 for 과목 in 과목명_모음}\n",
        "    for 반명 in 반명_모음:\n",
        "        반_성적점수 = 성적데이터[학년][반명]\n",
        "        for 과목 in 과목명_모음:\n",
        "            반_최고점수 = max(성적데이터[학년][반명][과목])\n",
        "            if 과목별_최고점수[과목] < 반_최고점수:\n",
        "                과목별_최고점수[과목] = 반_최고점수\n",
        "\n",
        "    return 과목별_최고점수"
      ]
    },
    {
      "cell_type": "code",
      "execution_count": null,
      "metadata": {
        "colab": {
          "base_uri": "https://localhost:8080/"
        },
        "id": "SyM9GQSQmG3-",
        "outputId": "9939aebc-b0b5-478e-c9bd-2c8ed88ea968"
      },
      "outputs": [
        {
          "data": {
            "text/plain": [
              "{'국어': 89, '수학': 95, '영어': 88}"
            ]
          },
          "execution_count": 20,
          "metadata": {},
          "output_type": "execute_result"
        }
      ],
      "source": [
        "학년_과목별_최고점수(성적데이터, '1학년')"
      ]
    },
    {
      "cell_type": "code",
      "execution_count": null,
      "metadata": {
        "id": "gcITN8eSmOja"
      },
      "outputs": [],
      "source": [
        "def 학년_반_학생별_평균점수(성적데이터, 학년, 반):\n",
        "    pass"
      ]
    },
    {
      "cell_type": "code",
      "execution_count": null,
      "metadata": {
        "id": "EYU22bhpo_jI"
      },
      "outputs": [],
      "source": [
        "def 학년_석차_평균점수기준(성적데이터, 학년):\n",
        "    pass"
      ]
    }
  ],
  "metadata": {
    "colab": {
      "provenance": []
    },
    "kernelspec": {
      "display_name": "Python 3",
      "name": "python3"
    },
    "language_info": {
      "codemirror_mode": {
        "name": "ipython",
        "version": 3
      },
      "file_extension": ".py",
      "mimetype": "text/x-python",
      "name": "python",
      "nbconvert_exporter": "python",
      "pygments_lexer": "ipython3",
      "version": "3.13.2"
    }
  },
  "nbformat": 4,
  "nbformat_minor": 0
}
