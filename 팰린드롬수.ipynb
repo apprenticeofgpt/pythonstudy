{
  "nbformat": 4,
  "nbformat_minor": 0,
  "metadata": {
    "colab": {
      "provenance": [],
      "authorship_tag": "ABX9TyPFmB4w3+VyBKUr3On9oD1B",
      "include_colab_link": true
    },
    "kernelspec": {
      "name": "python3",
      "display_name": "Python 3"
    },
    "language_info": {
      "name": "python"
    }
  },
  "cells": [
    {
      "cell_type": "markdown",
      "metadata": {
        "id": "view-in-github",
        "colab_type": "text"
      },
      "source": [
        "<a href=\"https://colab.research.google.com/github/apprenticeofgpt/pythonstudy/blob/main/%ED%8C%B0%EB%A6%B0%EB%93%9C%EB%A1%AC%EC%88%98.ipynb\" target=\"_parent\"><img src=\"https://colab.research.google.com/assets/colab-badge.svg\" alt=\"Open In Colab\"/></a>"
      ]
    },
    {
      "cell_type": "code",
      "execution_count": null,
      "metadata": {
        "colab": {
          "base_uri": "https://localhost:8080/"
        },
        "id": "hUsLI79CX0mS",
        "outputId": "70a75e6e-75db-4586-f407-a81318c417b6"
      },
      "outputs": [
        {
          "output_type": "stream",
          "name": "stdout",
          "text": [
            "input stringbva\n",
            "False\n"
          ]
        }
      ],
      "source": [
        "# str=input(\"input string\")\n",
        "# if str[0]==str[len(str)-1]:\n",
        "#   print(True)\n",
        "# else:\n",
        "#   print(False)"
      ]
    },
    {
      "cell_type": "code",
      "source": [
        "def palindrome(args):\n",
        " s=str(args)\n",
        " if s[::]==s[::-1]:\n",
        "  return True\n",
        " else:\n",
        "  return False"
      ],
      "metadata": {
        "id": "6S0LnbiI3wxx"
      },
      "execution_count": null,
      "outputs": []
    },
    {
      "cell_type": "code",
      "source": [
        "word=input()\n",
        "palindrome(word)"
      ],
      "metadata": {
        "colab": {
          "base_uri": "https://localhost:8080/"
        },
        "id": "zwPhOhmo4KfC",
        "outputId": "5b9d7d73-c8a5-46b1-dd79-07c6843d193c"
      },
      "execution_count": null,
      "outputs": [
        {
          "name": "stdout",
          "output_type": "stream",
          "text": [
            "addeedda\n"
          ]
        },
        {
          "output_type": "execute_result",
          "data": {
            "text/plain": [
              "True"
            ]
          },
          "metadata": {},
          "execution_count": 29
        }
      ]
    },
    {
      "cell_type": "code",
      "source": [],
      "metadata": {
        "colab": {
          "base_uri": "https://localhost:8080/"
        },
        "id": "ZCXOr8ve6Doy",
        "outputId": "3bd4eda9-46fb-434b-cd49-351e36c819db"
      },
      "execution_count": null,
      "outputs": [
        {
          "output_type": "stream",
          "name": "stdout",
          "text": [
            "abcd\n",
            "['a', 'b', 'c', 'd']\n"
          ]
        }
      ]
    }
  ]
}